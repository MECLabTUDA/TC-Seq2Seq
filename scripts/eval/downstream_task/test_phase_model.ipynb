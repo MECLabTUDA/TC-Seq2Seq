{
 "cells": [
  {
   "cell_type": "code",
   "execution_count": null,
   "metadata": {
    "collapsed": true
   },
   "outputs": [],
   "source": [
    "import numpy as np\n",
    "import torch\n",
    "from torch.utils.data import DataLoader\n",
    "import torchvision.transforms as Tf\n",
    "import matplotlib.pyplot as plt\n",
    "from tqdm import tqdm\n",
    "\n",
    "from src.data import Cataract101\n",
    "from src.model.phase_classifier_model import PhaseClassifier"
   ]
  },
  {
   "cell_type": "code",
   "execution_count": null,
   "outputs": [],
   "source": [
    "dev = 'cuda'\n",
    "\n",
    "train_ds = Cataract101(root='/local/scratch/cataract-101-processed/',\n",
    "                       n_seq_frames=3,\n",
    "                       dt=1,\n",
    "                       transforms=Tf.Compose([\n",
    "                           Tf.Resize((128, 128)),\n",
    "                           Tf.Normalize(0.5, 0.5)\n",
    "                       ]),\n",
    "                       sample_phase_annotations=True,\n",
    "                       split=\"Training\")\n",
    "\n",
    "val_ds = Cataract101(root='/local/scratch/cataract-101-processed/',\n",
    "                       n_seq_frames=3,\n",
    "                       dt=1,\n",
    "                       transforms=Tf.Compose([\n",
    "                           Tf.Resize((128, 128)),\n",
    "                           Tf.Normalize(0.5, 0.5)\n",
    "                       ]),\n",
    "                       sample_phase_annotations=True,\n",
    "                       split=\"Validation\")\n",
    "\n",
    "test_ds = Cataract101(root='/local/scratch/cataract-101-processed/',\n",
    "                      n_seq_frames=3,\n",
    "                      dt=1,\n",
    "                      transforms=Tf.Compose([\n",
    "                          Tf.Resize((128, 128)),\n",
    "                          Tf.Normalize(0.5, 0.5)\n",
    "                      ]),\n",
    "                      sample_phase_annotations=True,\n",
    "                      split=\"Test\")\n",
    "\n",
    "test_dl = DataLoader(val_ds, batch_size=1, num_workers=1, shuffle=False)"
   ],
   "metadata": {
    "collapsed": false
   }
  },
  {
   "cell_type": "code",
   "execution_count": null,
   "outputs": [],
   "source": [
    "m = PhaseClassifier(n_seq_frames=3, n_classes=11).to(dev)\n",
    "#m.load_state_dict(torch.load('../../../results/phase_model/phase_model_extended1.pth', map_location='cpu'))\n",
    "m.load_state_dict(torch.load('../../../results/phase_model/phase_model.pth', map_location='cpu'))\n",
    "m.eval()"
   ],
   "metadata": {
    "collapsed": false
   }
  },
  {
   "cell_type": "code",
   "execution_count": null,
   "outputs": [],
   "source": [
    "phase_predictions = None\n",
    "phase_target = None\n",
    "case_id = None\n",
    "with torch.no_grad():\n",
    "    for id, sample in enumerate(tqdm(test_dl)):\n",
    "        img = sample['img_seq']\n",
    "        _case_id = sample['case_id']\n",
    "        N, T, C, H, W = img.shape\n",
    "        img = img.view((N, T*C, H, W)).to(dev)\n",
    "        phase = sample['phase_seq'][:, -1]\n",
    "        predicted_phase = m(img)\n",
    "        phase_predictions = predicted_phase if phase_predictions is None else torch.cat([phase_predictions, predicted_phase], dim=0)\n",
    "        phase_target = phase if phase_target is None else torch.cat([phase_target, phase], dim=0)"
   ],
   "metadata": {
    "collapsed": false
   }
  },
  {
   "cell_type": "code",
   "execution_count": null,
   "outputs": [],
   "source": [
    "_phase_predictions = torch.argmax(phase_predictions, dim=-1)\n",
    "_phase_target = torch.argmax(phase_target, dim=-1)\n",
    "plt.figure()\n",
    "plt.grid()\n",
    "plt.scatter(np.arange(0, _phase_target.shape[0]), _phase_target.numpy()-0.2, label='target')\n",
    "plt.scatter(np.arange(0, _phase_predictions.shape[0]), _phase_predictions.cpu().numpy(), label='prediction')\n",
    "plt.ylim(-1, 11)\n",
    "plt.yticks(np.arange(0, 11))\n",
    "plt.legend()\n",
    "plt.show()"
   ],
   "metadata": {
    "collapsed": false
   }
  },
  {
   "cell_type": "code",
   "execution_count": null,
   "outputs": [],
   "source": [
    "from torchmetrics import F1Score, AUROC, Accuracy, AveragePrecision\n",
    "from src.metrics.temporal_consistency import time_seg_cluster_metric"
   ],
   "metadata": {
    "collapsed": false
   }
  },
  {
   "cell_type": "code",
   "execution_count": null,
   "outputs": [],
   "source": [
    "ap_score = AveragePrecision(num_classes=11, average=None).to(dev)\n",
    "f1_score = F1Score(num_classes=11, average=None).to(dev)\n",
    "auroc_score = AUROC(num_classes=11, average=None).to(dev)\n",
    "print(torch.stack(ap_score(phase_predictions, _phase_target.to(dev))))\n",
    "print(torch.stack(ap_score(phase_predictions, _phase_target.to(dev))).var())\n",
    "print(f1_score(phase_predictions, _phase_target.to(dev)))\n",
    "print(f1_score(phase_predictions, _phase_target.to(dev)).var())\n",
    "print(auroc_score(phase_predictions, _phase_target.to(dev)))\n",
    "print(auroc_score(phase_predictions, _phase_target.to(dev)).var())"
   ],
   "metadata": {
    "collapsed": false
   }
  },
  {
   "cell_type": "code",
   "execution_count": null,
   "outputs": [],
   "source": [
    "ap_score = AveragePrecision(num_classes=11).to(dev)\n",
    "f1_score = F1Score(num_classes=11).to(dev)\n",
    "auroc_score = AUROC(num_classes=11).to(dev)\n",
    "print(ap_score(phase_predictions, _phase_target.to(dev)))\n",
    "print(f1_score(phase_predictions, _phase_target.to(dev)))\n",
    "print(auroc_score(phase_predictions, _phase_target.to(dev)))"
   ],
   "metadata": {
    "collapsed": false
   }
  },
  {
   "cell_type": "code",
   "execution_count": null,
   "outputs": [],
   "source": [
    "_phase_target.shape"
   ],
   "metadata": {
    "collapsed": false
   }
  },
  {
   "cell_type": "code",
   "execution_count": null,
   "outputs": [],
   "source": [
    "print(time_seg_cluster_metric(phase_predictions.argmax(-1).cpu().numpy(), _phase_target.numpy()))"
   ],
   "metadata": {
    "collapsed": false
   }
  },
  {
   "cell_type": "code",
   "execution_count": null,
   "outputs": [],
   "source": [
    "ap_score = AveragePrecision(num_classes=11).to(dev)\n",
    "f1_score = F1Score(num_classes=11).to(dev)\n",
    "auroc_score = AUROC(num_classes=11).to(dev)\n",
    "print(ap_score(phase_predictions, _phase_target.to(dev)))\n",
    "print(f1_score(phase_predictions, _phase_target.to(dev)))\n",
    "print(auroc_score(phase_predictions, _phase_target.to(dev)))"
   ],
   "metadata": {
    "collapsed": false
   }
  },
  {
   "cell_type": "code",
   "execution_count": null,
   "outputs": [],
   "source": [
    "_phase_target.shape"
   ],
   "metadata": {
    "collapsed": false
   }
  },
  {
   "cell_type": "code",
   "execution_count": null,
   "outputs": [],
   "source": [
    "print(time_seg_cluster_metric(phase_predictions.argmax(-1).cpu().numpy(), _phase_target.numpy()))"
   ],
   "metadata": {
    "collapsed": false
   }
  }
 ],
 "metadata": {
  "kernelspec": {
   "display_name": "Python 3",
   "language": "python",
   "name": "python3"
  },
  "language_info": {
   "codemirror_mode": {
    "name": "ipython",
    "version": 2
   },
   "file_extension": ".py",
   "mimetype": "text/x-python",
   "name": "python",
   "nbconvert_exporter": "python",
   "pygments_lexer": "ipython2",
   "version": "2.7.6"
  }
 },
 "nbformat": 4,
 "nbformat_minor": 0
}
