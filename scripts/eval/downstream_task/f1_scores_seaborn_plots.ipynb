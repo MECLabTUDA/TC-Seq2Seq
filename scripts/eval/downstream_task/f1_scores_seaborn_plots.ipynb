{
 "cells": [
  {
   "cell_type": "code",
   "execution_count": null,
   "metadata": {
    "collapsed": true
   },
   "outputs": [],
   "source": [
    "import seaborn as sn\n",
    "import numpy as np\n",
    "import matplotlib\n",
    "import matplotlib.pyplot as plt"
   ]
  },
  {
   "cell_type": "markdown",
   "source": [
    "## Phase-wise F1 score"
   ],
   "metadata": {
    "collapsed": false
   }
  },
  {
   "cell_type": "code",
   "execution_count": null,
   "outputs": [],
   "source": [
    "f1_data = {\n",
    "    'x': ['Idle', 'Idle',\n",
    "          'Incision', 'Incision',\n",
    "          'VAI', 'VAI',\n",
    "          'Rhexis', 'Rhexis',\n",
    "          'HD', 'HD',\n",
    "          'PM', 'PM',\n",
    "          'I+A', 'I+A',\n",
    "          'Cap', 'Cap',\n",
    "          'LISU', 'LISU',\n",
    "          'VAR', 'VAR',\n",
    "          'T+A', 'T+A'],\n",
    "    'y': [0.4274, 0.2834,\n",
    "          0.5304, 0.5015,\n",
    "          0.5401, 0.5372,\n",
    "          0.7773, 0.7375,\n",
    "          0.7971, 0.7731,\n",
    "          0.9323, 0.9365,\n",
    "          0.7816, 0.7826,\n",
    "          0.5029, 0.4961,\n",
    "          0.7622, 0.7601,\n",
    "          0.8171, 0.8344,\n",
    "          0.8041, 0.8206],\n",
    "    'category': ['extended', 'normal',\n",
    "                 'extended', 'normal',\n",
    "                 'extended', 'normal',\n",
    "                 'extended', 'normal',\n",
    "                 'extended', 'normal',\n",
    "                 'extended', 'normal',\n",
    "                 'extended', 'normal',\n",
    "                 'extended', 'normal',\n",
    "                 'extended', 'normal',\n",
    "                 'extended', 'normal',\n",
    "                 'extended', 'normal']\n",
    "}"
   ],
   "metadata": {
    "collapsed": false
   }
  },
  {
   "cell_type": "code",
   "execution_count": null,
   "outputs": [],
   "source": [
    "plt.figure()\n",
    "plt.grid()\n",
    "plt.xticks(rotation=45)\n",
    "plt.xlabel('Phase')\n",
    "plt.ylabel('F1 score')\n",
    "plt.ylim(0, 1.0)\n",
    "g = sn.barplot(x='x', y='y', data=f1_data, hue='category', errorbar=None)\n",
    "plt.savefig('phases.svg')\n",
    "plt.show()"
   ],
   "metadata": {
    "collapsed": false
   }
  },
  {
   "cell_type": "markdown",
   "source": [
    "## Significance Tests"
   ],
   "metadata": {
    "collapsed": false
   }
  },
  {
   "cell_type": "code",
   "execution_count": null,
   "outputs": [],
   "source": [
    "extended_acc_scores = []\n",
    "extended_f1_scores = [0.7931433320045471, 0.7940435409545898, 0.8116351366043091, 0.8265778422355652, 0.8219484686851501, 0.8302555680274963, 0.8129982948303223, 0.799032986164093, 0.8038681149482727, 0.7783293128013611, 0.7463865280151367, 0.7264543771743774, 0.6856128573417664, 0.6664009094238281, 0.6564734578132629, 0.6584023237228394, 0.6391646265983582, 0.6164034605026245, 0.6514068245887756, 0.6481919884681702, 0.5657373666763306, 0.5851036310195923, 0.5925621390342712, 0.6051385998725891, 0.6249421238899231]\n",
    "extended_auroc_scores = [0.9558829665184021, 0.9570357799530029, 0.9594829082489014, 0.9646327495574951, 0.9633168578147888, 0.9628251791000366, 0.9574122428894043, 0.947849452495575, 0.94565349817276, 0.9376704692840576, 0.9315469264984131, 0.9257729649543762, 0.9146391749382019, 0.9186909794807434, 0.9223508238792419, 0.9223832488059998, 0.9266249537467957, 0.9214337468147278, 0.9290128350257874, 0.9261548519134521, 0.9105250835418701, 0.9124371409416199, 0.9068300127983093, 0.9042720794677734, 0.9159898161888123]"
   ],
   "metadata": {
    "collapsed": false
   }
  },
  {
   "cell_type": "code",
   "execution_count": null,
   "outputs": [],
   "source": [
    "normal_acc_scores = []\n",
    "normal_f1_scores = [0.7820841670036316, 0.7818270921707153, 0.8064914345741272, 0.821562647819519, 0.8306928873062134, 0.8399773836135864, 0.8177305459976196, 0.8087804317474365, 0.809217631816864, 0.7681703567504883, 0.721747875213623, 0.6841468811035156, 0.6567820310592651, 0.6020523905754089, 0.5895529985427856, 0.606373131275177, 0.6059873700141907, 0.6041355729103088, 0.6264081001281738, 0.6642147898674011, 0.582248866558075, 0.5958541035652161, 0.5880098938941956, 0.5873926281929016, 0.6098451614379883]\n",
    "normal_auroc_scores = [0.9558719396591187, 0.9573275446891785, 0.9618080854415894, 0.9647175669670105, 0.9641339182853699, 0.9637503623962402, 0.9580916166305542, 0.9527487754821777, 0.9476960897445679, 0.9405545592308044, 0.9327759742736816, 0.9272284507751465, 0.9196467399597168, 0.912804365158081, 0.9146508574485779, 0.9164861440658569, 0.9268630743026733, 0.9219192266464233, 0.9248536229133606, 0.928353488445282, 0.9246707558631897, 0.9226087331771851, 0.9205573797225952, 0.9101051092147827, 0.919295072555542]"
   ],
   "metadata": {
    "collapsed": false
   }
  },
  {
   "cell_type": "code",
   "execution_count": null,
   "outputs": [],
   "source": [
    "import numpy as np\n",
    "print(np.mean(extended_auroc_scores))\n",
    "print(np.mean(normal_auroc_scores))\n",
    "print(np.mean(extended_f1_scores))\n",
    "print(np.mean(normal_f1_scores))"
   ],
   "metadata": {
    "collapsed": false
   }
  },
  {
   "cell_type": "markdown",
   "source": [
    "## t-test for F1 scores"
   ],
   "metadata": {
    "collapsed": false
   }
  },
  {
   "cell_type": "code",
   "execution_count": null,
   "outputs": [],
   "source": [
    "f1_score_diffs = np.array(extended_f1_scores) - np.array(normal_f1_scores)"
   ],
   "metadata": {
    "collapsed": false
   }
  },
  {
   "cell_type": "code",
   "execution_count": null,
   "outputs": [],
   "source": [
    "f1_score_diffs"
   ],
   "metadata": {
    "collapsed": false
   }
  },
  {
   "cell_type": "code",
   "execution_count": null,
   "outputs": [],
   "source": [
    "mean_diff = np.mean(f1_score_diffs)\n",
    "print(mean_diff)"
   ],
   "metadata": {
    "collapsed": false
   }
  },
  {
   "cell_type": "code",
   "execution_count": null,
   "outputs": [],
   "source": [
    "sd_diff = np.std(f1_score_diffs)\n",
    "print(sd_diff)"
   ],
   "metadata": {
    "collapsed": false
   }
  },
  {
   "cell_type": "code",
   "execution_count": null,
   "outputs": [],
   "source": [
    "N = len(f1_score_diffs)\n",
    "t = (np.sqrt(N)*mean_diff)/sd_diff\n",
    "print(t)"
   ],
   "metadata": {
    "collapsed": false
   }
  },
  {
   "cell_type": "code",
   "execution_count": null,
   "outputs": [],
   "source": [
    "# https://www.sjsu.edu/faculty/gerstman/StatPrimer/t-table.pdf\n",
    "df = N - 1\n",
    "p = 0.01 # 0.005\n",
    "_t = 2.756\n",
    "# Since t is not in [-_t, _t], we can reject H0 and our models differ significantly"
   ],
   "metadata": {
    "collapsed": false
   }
  },
  {
   "cell_type": "code",
   "execution_count": null,
   "outputs": [],
   "source": [],
   "metadata": {
    "collapsed": false
   }
  }
 ],
 "metadata": {
  "kernelspec": {
   "display_name": "Python 3",
   "language": "python",
   "name": "python3"
  },
  "language_info": {
   "codemirror_mode": {
    "name": "ipython",
    "version": 2
   },
   "file_extension": ".py",
   "mimetype": "text/x-python",
   "name": "python",
   "nbconvert_exporter": "python",
   "pygments_lexer": "ipython2",
   "version": "2.7.6"
  }
 },
 "nbformat": 4,
 "nbformat_minor": 0
}
