{
 "cells": [
  {
   "cell_type": "code",
   "execution_count": null,
   "metadata": {
    "collapsed": true
   },
   "outputs": [],
   "source": [
    "import numpy as np\n",
    "import torch\n",
    "from torch.utils.data import DataLoader, ConcatDataset, Subset\n",
    "import torchvision.transforms as Tf\n",
    "from torchmetrics import F1Score, AUROC, Accuracy\n",
    "import matplotlib.pyplot as plt\n",
    "from tqdm import tqdm\n",
    "\n",
    "from src.data import Cataract101\n",
    "from src.model.phase_classifier_model import PhaseClassifier"
   ]
  },
  {
   "cell_type": "markdown",
   "source": [
    "## Load datasets"
   ],
   "metadata": {
    "collapsed": false
   }
  },
  {
   "cell_type": "code",
   "execution_count": null,
   "outputs": [],
   "source": [
    "dev = 'cuda'\n",
    "\n",
    "train_ds = Cataract101(root='/local/scratch/cataract-101-processed/',\n",
    "                       n_seq_frames=3,\n",
    "                       dt=1,\n",
    "                       transforms=Tf.Compose([\n",
    "                           Tf.Resize((128, 128)),\n",
    "                           Tf.Normalize(0.5, 0.5)\n",
    "                       ]),\n",
    "                       sample_phase_annotations=True,\n",
    "                       split=\"Training\")\n",
    "\n",
    "val_ds = Cataract101(root='/local/scratch/cataract-101-processed/',\n",
    "                       n_seq_frames=3,\n",
    "                       dt=1,\n",
    "                       transforms=Tf.Compose([\n",
    "                           Tf.Resize((128, 128)),\n",
    "                           Tf.Normalize(0.5, 0.5)\n",
    "                       ]),\n",
    "                       sample_phase_annotations=True,\n",
    "                       split=\"Validation\")\n",
    "\n",
    "test_ds = Cataract101(root='/local/scratch/cataract-101-processed/',\n",
    "                      n_seq_frames=3,\n",
    "                      dt=1,\n",
    "                      transforms=Tf.Compose([\n",
    "                          Tf.Resize((128, 128)),\n",
    "                          Tf.Normalize(0.5, 0.5)\n",
    "                      ]),\n",
    "                      sample_phase_annotations=True,\n",
    "                      split=\"Test\")\n",
    "\n",
    "test_ds = ConcatDataset([val_ds, test_ds])"
   ],
   "metadata": {
    "collapsed": false
   }
  },
  {
   "cell_type": "markdown",
   "source": [
    "## Eval. extended model"
   ],
   "metadata": {
    "collapsed": false
   }
  },
  {
   "cell_type": "code",
   "execution_count": null,
   "outputs": [],
   "source": [
    "m = PhaseClassifier(n_seq_frames=3, n_classes=11).to(dev)\n",
    "m.load_state_dict(torch.load('../../../results/phase_model/phase_model_extended1.pth', map_location='cpu'))\n",
    "m.eval()"
   ],
   "metadata": {
    "collapsed": false
   }
  },
  {
   "cell_type": "code",
   "execution_count": null,
   "outputs": [],
   "source": [
    "print(len(test_ds))\n",
    "N = 30\n",
    "acc_scores_per_split = []\n",
    "f1_scores_per_split = []\n",
    "auroc_scores_per_split = []\n",
    "acc_score = Accuracy(num_classes=11).to(dev)\n",
    "f1_score = F1Score(num_classes=11).to(dev)\n",
    "auroc_score = AUROC(num_classes=11).to(dev)\n",
    "for start in np.arange(0, len(test_ds), int(len(test_ds))/N):\n",
    "    _test_ds = Subset(test_ds, range(int(start), int(start + len(test_ds)//5)))\n",
    "    test_dl = DataLoader(_test_ds, batch_size=16, num_workers=4, shuffle=False)\n",
    "    phase_predictions = None\n",
    "    phase_target = None\n",
    "    case_id = None\n",
    "    with torch.no_grad():\n",
    "        for id, sample in enumerate(tqdm(test_dl)):\n",
    "            img = sample['img_seq']\n",
    "            _case_id = sample['case_id']\n",
    "            N, T, C, H, W = img.shape\n",
    "            img = img.view((N, T*C, H, W)).to(dev)\n",
    "            phase = sample['phase_seq'][:, -1]\n",
    "            predicted_phase = m(img)\n",
    "            phase_predictions = predicted_phase if phase_predictions is None else torch.cat([phase_predictions, predicted_phase], dim=0)\n",
    "            phase_target = phase if phase_target is None else torch.cat([phase_target, phase], dim=0)\n",
    "    _phase_target = torch.argmax(phase_target, dim=-1)\n",
    "    acc_scores_per_split.append(acc_score(phase_predictions, _phase_target.to(dev)).item())\n",
    "    f1_scores_per_split.append(f1_score(phase_predictions, _phase_target.to(dev)).item())\n",
    "    auroc_scores_per_split.append(auroc_score(phase_predictions, _phase_target.to(dev)).item())"
   ],
   "metadata": {
    "collapsed": false
   }
  },
  {
   "cell_type": "code",
   "execution_count": null,
   "outputs": [],
   "source": [
    "print(acc_scores_per_split)"
   ],
   "metadata": {
    "collapsed": false
   }
  },
  {
   "cell_type": "code",
   "execution_count": null,
   "outputs": [],
   "source": [
    "print(f1_scores_per_split)"
   ],
   "metadata": {
    "collapsed": false
   }
  },
  {
   "cell_type": "code",
   "execution_count": null,
   "outputs": [],
   "source": [
    "print(auroc_scores_per_split)"
   ],
   "metadata": {
    "collapsed": false
   }
  },
  {
   "cell_type": "markdown",
   "source": [
    "## Eval. normal model"
   ],
   "metadata": {
    "collapsed": false
   }
  },
  {
   "cell_type": "code",
   "execution_count": null,
   "outputs": [],
   "source": [
    "m = PhaseClassifier(n_seq_frames=3, n_classes=11).to(dev)\n",
    "m.load_state_dict(torch.load('../../../results/phase_model/phase_model.pth', map_location='cpu'))\n",
    "m.eval()"
   ],
   "metadata": {
    "collapsed": false
   }
  },
  {
   "cell_type": "code",
   "execution_count": null,
   "outputs": [],
   "source": [
    "N = 30\n",
    "acc_scores_per_split= []\n",
    "f1_scores_per_split = []\n",
    "auroc_scores_per_split = []\n",
    "for start in np.arange(0, len(test_ds), int(len(test_ds))/N):\n",
    "    _test_ds = Subset(test_ds, range(int(start), int(start + len(test_ds)//5)))\n",
    "    test_dl = DataLoader(_test_ds, batch_size=16, num_workers=4, shuffle=False)\n",
    "    phase_predictions = None\n",
    "    phase_target = None\n",
    "    case_id = None\n",
    "    with torch.no_grad():\n",
    "        for id, sample in enumerate(tqdm(test_dl)):\n",
    "            img = sample['img_seq']\n",
    "            _case_id = sample['case_id']\n",
    "            N, T, C, H, W = img.shape\n",
    "            img = img.view((N, T*C, H, W)).to(dev)\n",
    "            phase = sample['phase_seq'][:, -1]\n",
    "            predicted_phase = m(img)\n",
    "            phase_predictions = predicted_phase if phase_predictions is None else torch.cat([phase_predictions, predicted_phase], dim=0)\n",
    "            phase_target = phase if phase_target is None else torch.cat([phase_target, phase], dim=0)\n",
    "    _phase_target = torch.argmax(phase_target, dim=-1)\n",
    "    acc_scores_per_split.append(acc_score(phase_predictions, _phase_target.to(dev)).item())\n",
    "    f1_scores_per_split.append(f1_score(phase_predictions, _phase_target.to(dev)).item())\n",
    "    auroc_scores_per_split.append(auroc_score(phase_predictions, _phase_target.to(dev)).item())"
   ],
   "metadata": {
    "collapsed": false
   }
  },
  {
   "cell_type": "code",
   "execution_count": null,
   "outputs": [],
   "source": [
    "print(acc_scores_per_split)"
   ],
   "metadata": {
    "collapsed": false
   }
  },
  {
   "cell_type": "code",
   "execution_count": null,
   "outputs": [],
   "source": [
    "print(f1_scores_per_split)"
   ],
   "metadata": {
    "collapsed": false
   }
  },
  {
   "cell_type": "code",
   "execution_count": null,
   "outputs": [],
   "source": [
    "print(auroc_scores_per_split)"
   ],
   "metadata": {
    "collapsed": false
   }
  }
 ],
 "metadata": {
  "kernelspec": {
   "display_name": "Python 3",
   "language": "python",
   "name": "python3"
  },
  "language_info": {
   "codemirror_mode": {
    "name": "ipython",
    "version": 2
   },
   "file_extension": ".py",
   "mimetype": "text/x-python",
   "name": "python",
   "nbconvert_exporter": "python",
   "pygments_lexer": "ipython2",
   "version": "2.7.6"
  }
 },
 "nbformat": 4,
 "nbformat_minor": 0
}
