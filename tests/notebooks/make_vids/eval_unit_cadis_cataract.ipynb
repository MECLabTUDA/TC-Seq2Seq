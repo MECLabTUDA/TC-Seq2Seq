{
 "cells": [
  {
   "cell_type": "code",
   "execution_count": 12,
   "metadata": {
    "collapsed": true
   },
   "outputs": [],
   "source": [
    "import os\n",
    "import shutil\n",
    "import time\n",
    "\n",
    "import numpy as np\n",
    "import torch\n",
    "import torch.nn as nn\n",
    "import torchvision.transforms as T\n",
    "from torchvision.io import write_video\n",
    "from torch.utils.data import DataLoader\n",
    "from tqdm import tqdm\n",
    "import matplotlib.pyplot as plt\n",
    "\n",
    "from src.data.image_dataset import ImageDataset\n",
    "from src.model.discriminator import UNIT_MsImageDis\n",
    "from src.model.generator import UNIT_VAEGen\n",
    "from src.utils.train import read_config\n",
    "from src.utils.datasets import get_dataloaders"
   ]
  },
  {
   "cell_type": "code",
   "execution_count": 13,
   "outputs": [],
   "source": [
    "root = '../../../results/UNIT-2022_08_23-13_02_26/'\n",
    "conf, uneasy_conf = read_config(root + 'config.yml')\n",
    "conf.device = 'cpu'"
   ],
   "metadata": {
    "collapsed": false
   }
  },
  {
   "cell_type": "code",
   "execution_count": 14,
   "outputs": [
    {
     "name": "stdout",
     "output_type": "stream",
     "text": [
      "########## Loading data.\n",
      "Domain A size:  4670\n",
      "Domain B size:  252660\n",
      "Domain A size:  4670\n",
      "Domain B size:  252660\n"
     ]
    }
   ],
   "source": [
    "print(\"########## Loading data.\")\n",
    "_, test_dl = get_dataloaders(conf)"
   ],
   "metadata": {
    "collapsed": false
   }
  },
  {
   "cell_type": "code",
   "execution_count": 15,
   "outputs": [
    {
     "name": "stdout",
     "output_type": "stream",
     "text": [
      "########## Loading model.\n"
     ]
    },
    {
     "data": {
      "text/plain": "<All keys matched successfully>"
     },
     "execution_count": 15,
     "metadata": {},
     "output_type": "execute_result"
    }
   ],
   "source": [
    "print(\"########## Loading model.\")\n",
    "gen_A = UNIT_VAEGen(conf.data.in_dim_A, conf.model.gen).to(conf.device).eval()\n",
    "gen_A.load_state_dict(torch.load(root + 'checkpoints/gen_A_epoch999.PTH', map_location='cpu'))\n",
    "gen_B = UNIT_VAEGen(conf.data.in_dim_B, conf.model.gen).to(conf.device).eval()\n",
    "gen_B.load_state_dict(torch.load(root + 'checkpoints/gen_B_epoch999.PTH', map_location='cpu'))\n",
    "disc_A = UNIT_MsImageDis(conf.data.in_dim_A, conf.model.disc).to(conf.device).eval()\n",
    "disc_A.load_state_dict(torch.load(root + 'checkpoints/disc_A_epoch999.PTH', map_location='cpu'))\n",
    "disc_B = UNIT_MsImageDis(conf.data.in_dim_B, conf.model.disc).to(conf.device).eval()\n",
    "disc_B.load_state_dict(torch.load(root + 'checkpoints/disc_B_epoch999.PTH', map_location='cpu'))"
   ],
   "metadata": {
    "collapsed": false
   }
  },
  {
   "cell_type": "code",
   "execution_count": 18,
   "outputs": [
    {
     "name": "stdout",
     "output_type": "stream",
     "text": [
      "########## Evaluation\n"
     ]
    }
   ],
   "source": [
    "print(\"########## Evaluation\")\n",
    "time.sleep(0.1)\n",
    "\n",
    "with torch.no_grad():\n",
    "    sample = next(iter(test_dl))\n",
    "    real_image_A = sample[\"A\"].to(conf.device)\n",
    "    real_image_B = sample[\"B\"].to(conf.device)\n",
    "\n",
    "    N, T, C, H, W = real_image_A.shape\n",
    "\n",
    "    h_a, n_a = gen_A.encode(real_image_A.view(N*T, C, H, W))\n",
    "    h_b, n_b = gen_B.encode(real_image_B.view(N*T, C, H, W))\n",
    "\n",
    "    # Decode (cross domain)\n",
    "    x_ba = gen_A.decode(h_b + n_b).view((N, T, C, H, W))\n",
    "    x_ab = gen_B.decode(h_a + n_a).view((N, T, C, H, W))\n",
    "\n",
    "    # Decode (within domain)\n",
    "    x_a_recon = gen_A.decode(h_a + n_a).view((N, T, C, H, W))\n",
    "    x_b_recon = gen_B.decode(h_b + n_b).view((N, T, C, H, W))\n",
    "\n",
    "    # Encode again\n",
    "    h_b_recon, n_b_recon = gen_A.encode(x_ba.view(N*T, C, H, W))\n",
    "    h_a_recon, n_a_recon = gen_B.encode(x_ab.view(N*T, C, H, W))\n",
    "\n",
    "    # Decode again (if needed)\n",
    "    x_aba = gen_A.decode(h_a_recon + n_a_recon).view((N, T, C, H, W)) \\\n",
    "        if conf.model.recon_x_cyc_weight > 0 else None\n",
    "    x_bab = gen_B.decode(h_b_recon + n_b_recon).view((N, T, C, H, W)) \\\n",
    "        if conf.model.recon_x_cyc_weight > 0 else None\n",
    "\n",
    "    # De-normalize\n",
    "    real_image_A = 0.5 * (real_image_A + 1.0)\n",
    "    real_image_B = 0.5 * (real_image_B + 1.0)\n",
    "    x_a_recon = 0.5 * (x_a_recon + 1.0)\n",
    "    x_b_recon = 0.5 * (x_b_recon + 1.0)\n",
    "    x_ab = 0.5 * (x_ab + 1.0)\n",
    "    x_ba = 0.5 * (x_ba + 1.0)"
   ],
   "metadata": {
    "collapsed": false
   }
  },
  {
   "cell_type": "code",
   "execution_count": 19,
   "outputs": [
    {
     "name": "stdout",
     "output_type": "stream",
     "text": [
      "0\n",
      "5\n",
      "10\n",
      "16\n",
      "21\n",
      "27\n",
      "32\n",
      "38\n",
      "43\n",
      "49\n"
     ]
    }
   ],
   "source": [
    "os.makedirs(root + \"plots/\")\n",
    "os.makedirs(root + \"videos/\")\n",
    "for n in range(real_image_A.shape[0]):\n",
    "\n",
    "    nt = 10\n",
    "    # fig, ax = plt.subplots(6, real_image_A.shape[1], figsize=(real_image_A.shape[1]*3, 18))\n",
    "    fig, ax = plt.subplots(6, nt, figsize=(nt * 3, 18))\n",
    "\n",
    "    # for t in range(real_image_A.shape[1]):\n",
    "    for i, t in enumerate(np.linspace(start=0, stop=real_image_A.shape[1] - 1, num=nt, dtype=int)):\n",
    "\n",
    "        print(t)\n",
    "\n",
    "        ax[0, i].imshow(real_image_A[n, t].permute(1, 2, 0).cpu().numpy())\n",
    "        ax[1, i].imshow(x_a_recon[n, t].permute(1, 2, 0).cpu().numpy())\n",
    "        ax[2, i].imshow(x_ab[n, t].permute(1, 2, 0).cpu().numpy())\n",
    "        ax[3, i].imshow(real_image_B[n, t].permute(1, 2, 0).cpu().numpy())\n",
    "        ax[4, i].imshow(x_b_recon[n, t].permute(1, 2, 0).cpu().numpy())\n",
    "        ax[5, i].imshow(x_ba[n, t].permute(1, 2, 0).cpu().numpy())\n",
    "\n",
    "    plt.savefig(root + f\"plots/n{n}.SVG\")\n",
    "    plt.close()\n",
    "\n",
    "    write_video(filename=root + f\"videos/n{n}_real_A.mp4\", fps=5,\n",
    "                video_array=(real_image_A[n]*255).cpu().permute(0, 2, 3, 1).to(torch.uint8))\n",
    "    write_video(filename=root + f\"videos/n{n}_real_B.mp4\", fps=5,\n",
    "                video_array=(real_image_B[n]*255).cpu().permute(0, 2, 3, 1).to(torch.uint8))\n",
    "    write_video(filename=root + f\"videos/n{n}_AB.mp4\", fps=5,\n",
    "                video_array=(x_ab[n]*255).cpu().permute(0, 2, 3, 1).to(torch.uint8))\n",
    "    write_video(filename=root + f\"videos/n{n}_BA.mp4\", fps=5,\n",
    "                video_array=(x_ba[n]*255).cpu().permute(0, 2, 3, 1).to(torch.uint8))"
   ],
   "metadata": {
    "collapsed": false
   }
  },
  {
   "cell_type": "code",
   "execution_count": null,
   "outputs": [],
   "source": [],
   "metadata": {
    "collapsed": false
   }
  }
 ],
 "metadata": {
  "kernelspec": {
   "display_name": "Python 3",
   "language": "python",
   "name": "python3"
  },
  "language_info": {
   "codemirror_mode": {
    "name": "ipython",
    "version": 2
   },
   "file_extension": ".py",
   "mimetype": "text/x-python",
   "name": "python",
   "nbconvert_exporter": "python",
   "pygments_lexer": "ipython2",
   "version": "2.7.6"
  }
 },
 "nbformat": 4,
 "nbformat_minor": 0
}
