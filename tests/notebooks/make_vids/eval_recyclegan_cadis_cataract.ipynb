{
 "cells": [
  {
   "cell_type": "code",
   "execution_count": 4,
   "metadata": {
    "collapsed": true
   },
   "outputs": [],
   "source": [
    "import os\n",
    "import time\n",
    "\n",
    "import torch\n",
    "from torchvision.io import write_video\n",
    "from tqdm import tqdm\n",
    "\n",
    "from src.agent.recycle_gan import ReCycleGAN\n",
    "from src.utils.datasets import get_dataloaders\n",
    "from src.utils.train import read_config"
   ]
  },
  {
   "cell_type": "code",
   "execution_count": 5,
   "outputs": [],
   "source": [
    "root = '../../../results/RecyleGAN_Cadis_Cataract/2022_09_15-12_36_49/'\n",
    "conf, uneasy_conf = read_config(root + 'config.yml')\n",
    "conf.device = 'cpu'\n",
    "conf.data.seq_frames_test = T = 50"
   ],
   "metadata": {
    "collapsed": false
   }
  },
  {
   "cell_type": "code",
   "execution_count": 6,
   "outputs": [
    {
     "name": "stdout",
     "output_type": "stream",
     "text": [
      "########## Loading data.\n",
      "Domain A size:  4670\n",
      "Domain B size:  252660\n",
      "Domain A size:  4670\n",
      "Domain B size:  252660\n"
     ]
    }
   ],
   "source": [
    "print(\"########## Loading data.\")\n",
    "_, test_dl = get_dataloaders(conf)"
   ],
   "metadata": {
    "collapsed": false
   }
  },
  {
   "cell_type": "code",
   "execution_count": 7,
   "outputs": [
    {
     "name": "stdout",
     "output_type": "stream",
     "text": [
      "########## Loading model.\n"
     ]
    },
    {
     "data": {
      "text/plain": "<All keys matched successfully>"
     },
     "execution_count": 7,
     "metadata": {},
     "output_type": "execute_result"
    }
   ],
   "source": [
    "print(\"########## Loading model.\")\n",
    "agent = ReCycleGAN(conf)\n",
    "agent.netG_B2A.load_state_dict(torch.load(\n",
    "    root + 'checkpoints/Gen_B2A_ep280.PTH', map_location='cpu'))\n",
    "agent.netG_A2B.load_state_dict(torch.load(\n",
    "    root + 'checkpoints/Gen_A2B_ep280.PTH', map_location='cpu'))"
   ],
   "metadata": {
    "collapsed": false
   }
  },
  {
   "cell_type": "code",
   "execution_count": 8,
   "outputs": [
    {
     "name": "stdout",
     "output_type": "stream",
     "text": [
      "########## Evaluating\n"
     ]
    },
    {
     "name": "stderr",
     "output_type": "stream",
     "text": [
      "100%|██████████| 48/48 [01:15<00:00,  1.58s/it]"
     ]
    },
    {
     "name": "stdout",
     "output_type": "stream",
     "text": [
      "torch.Size([1, 48, 3, 256, 256])\n"
     ]
    },
    {
     "name": "stderr",
     "output_type": "stream",
     "text": [
      "\n"
     ]
    }
   ],
   "source": [
    "seq_A = None\n",
    "gen_seq_A = None\n",
    "seq_B = None\n",
    "gen_seq_B = None\n",
    "\n",
    "dl = iter(test_dl)\n",
    "dt = 1\n",
    "\n",
    "print(\"########## Evaluating\")\n",
    "time.sleep(0.1)\n",
    "\n",
    "for t in tqdm(range(T-2)):\n",
    "\n",
    "    for _ in range(dt):\n",
    "        sample = next(dl)\n",
    "\n",
    "    sample_A = 0.5 * (sample['A'][:, t].data + 1.0)\n",
    "    gen_sample_A = 0.5 * (agent.netG_B2A(sample['B'][:, t].to(conf.device)).data + 1.0).cpu()\n",
    "    sample_B = 0.5 * (sample['B'][:, t].data + 1.0)\n",
    "    gen_sample_B = 0.5 * (agent.netG_A2B(sample['A'][:, t].to(conf.device)).data + 1.0).cpu()\n",
    "\n",
    "    seq_A = sample_A.unsqueeze(1) if seq_A is None else torch.cat([seq_A, sample_A.unsqueeze(1)], dim=1)\n",
    "    gen_seq_A = gen_sample_A.unsqueeze(1) if gen_seq_A is None \\\n",
    "        else torch.cat([gen_seq_A, gen_sample_A.unsqueeze(1)], dim=1)\n",
    "    seq_B = sample_B.unsqueeze(1) if seq_B is None else torch.cat([seq_B, sample_B.unsqueeze(1)], dim=1)\n",
    "    gen_seq_B = gen_sample_B.unsqueeze(1) if gen_seq_B is None \\\n",
    "        else torch.cat([gen_seq_B, gen_sample_B.unsqueeze(1)], dim=1)\n",
    "\n",
    "print(seq_A.shape)"
   ],
   "metadata": {
    "collapsed": false
   }
  },
  {
   "cell_type": "code",
   "execution_count": 9,
   "outputs": [],
   "source": [
    "os.makedirs(root + 'videos/', exist_ok=True)\n",
    "write_video(root + 'videos/seq_A.mp4', video_array=255*seq_A.squeeze(0).permute(0, 2, 3, 1), fps=5)\n",
    "write_video(root + 'videos/seq_B.mp4', video_array=255*seq_B.squeeze(0).permute(0, 2, 3, 1), fps=5)\n",
    "write_video(root + 'videos/seq_A2B.mp4', video_array=255*gen_seq_B.squeeze(0).permute(0, 2, 3, 1), fps=5)\n",
    "write_video(root + 'videos/seq_B2A.mp4', video_array=255*gen_seq_A.squeeze(0).permute(0, 2, 3, 1), fps=5)"
   ],
   "metadata": {
    "collapsed": false
   }
  },
  {
   "cell_type": "code",
   "execution_count": 9,
   "outputs": [],
   "source": [],
   "metadata": {
    "collapsed": false
   }
  }
 ],
 "metadata": {
  "kernelspec": {
   "display_name": "Python 3",
   "language": "python",
   "name": "python3"
  },
  "language_info": {
   "codemirror_mode": {
    "name": "ipython",
    "version": 2
   },
   "file_extension": ".py",
   "mimetype": "text/x-python",
   "name": "python",
   "nbconvert_exporter": "python",
   "pygments_lexer": "ipython2",
   "version": "2.7.6"
  }
 },
 "nbformat": 4,
 "nbformat_minor": 0
}
