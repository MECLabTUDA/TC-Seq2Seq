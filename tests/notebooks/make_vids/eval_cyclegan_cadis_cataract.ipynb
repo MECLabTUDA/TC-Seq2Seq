{
 "cells": [
  {
   "cell_type": "code",
   "execution_count": 2,
   "metadata": {
    "collapsed": true
   },
   "outputs": [],
   "source": [
    "import os\n",
    "import time\n",
    "\n",
    "import torch\n",
    "from torchvision.io import write_video\n",
    "from tqdm import tqdm\n",
    "\n",
    "from src.agent.cycle_gan import CycleGAN_Agent\n",
    "from src.utils.datasets import get_dataloaders\n",
    "from src.utils.train import read_config"
   ]
  },
  {
   "cell_type": "code",
   "execution_count": 3,
   "outputs": [],
   "source": [
    "root = \"../../../results/CycleGAN_Cadis_Cataract/2022_08_04-10_12_21/\"\n",
    "conf, uneasy_conf = read_config(root + 'config.yml')\n",
    "conf.device = 'cpu'\n",
    "conf.data.seq_frames_test = -1"
   ],
   "metadata": {
    "collapsed": false
   }
  },
  {
   "cell_type": "code",
   "execution_count": 4,
   "outputs": [
    {
     "name": "stdout",
     "output_type": "stream",
     "text": [
      "########## Loading data.\n",
      "Domain A --- Training: 3493 --- Testing: 3\n",
      "Domain B --- Training: 169249 --- Testing: 10\n"
     ]
    }
   ],
   "source": [
    "print(\"########## Loading data.\")\n",
    "train_dl, test_dl = get_dataloaders(conf)"
   ],
   "metadata": {
    "collapsed": false
   }
  },
  {
   "cell_type": "code",
   "execution_count": 5,
   "outputs": [
    {
     "name": "stdout",
     "output_type": "stream",
     "text": [
      "########## Loading model.\n"
     ]
    },
    {
     "data": {
      "text/plain": "<All keys matched successfully>"
     },
     "execution_count": 5,
     "metadata": {},
     "output_type": "execute_result"
    }
   ],
   "source": [
    "print(\"########## Loading model.\")\n",
    "agent = CycleGAN_Agent(conf)\n",
    "agent.netG_A2B.load_state_dict(torch.load(root + \"checkpoints/Gen_A2B_ep280.PTH\", map_location='cpu'))\n",
    "agent.netG_B2A.load_state_dict(torch.load(root + \"checkpoints/Gen_B2A_ep280.PTH\", map_location='cpu'))"
   ],
   "metadata": {
    "collapsed": false
   }
  },
  {
   "cell_type": "code",
   "execution_count": 5,
   "outputs": [
    {
     "name": "stdout",
     "output_type": "stream",
     "text": [
      "########## Evaluating\n"
     ]
    }
   ],
   "source": [
    "print(\"########## Evaluating\")\n",
    "time.sleep(0.1)\n",
    "\n",
    "sample = next(iter(test_dl))\n",
    "real_seq_A = sample['A']\n",
    "real_seq_B = sample['B']"
   ],
   "metadata": {
    "collapsed": false
   }
  },
  {
   "cell_type": "code",
   "execution_count": 6,
   "outputs": [
    {
     "data": {
      "text/plain": "torch.Size([1, 50, 3, 512, 512])"
     },
     "execution_count": 6,
     "metadata": {},
     "output_type": "execute_result"
    }
   ],
   "source": [
    "real_seq_A.shape"
   ],
   "metadata": {
    "collapsed": false
   }
  },
  {
   "cell_type": "code",
   "execution_count": 7,
   "outputs": [
    {
     "name": "stderr",
     "output_type": "stream",
     "text": [
      "100%|██████████| 48/48 [01:42<00:00,  2.14s/it]\n"
     ]
    }
   ],
   "source": [
    "gen_seq_AB = None\n",
    "gen_seq_BA = None\n",
    "with torch.no_grad():\n",
    "    for t in tqdm(range(real_seq_A.shape[1]-2)):\n",
    "        gen_img_AB = agent.netG_A2B(real_seq_A[:, t])\n",
    "        gen_img_BA = agent.netG_B2A(real_seq_B[:, t])\n",
    "\n",
    "        gen_seq_AB = gen_img_AB.unsqueeze(1) if gen_seq_AB is None\\\n",
    "            else torch.cat([gen_seq_AB, gen_img_AB.unsqueeze(1)], dim=1)\n",
    "        gen_seq_BA = gen_img_BA.unsqueeze(1) if gen_seq_BA is None\\\n",
    "            else torch.cat([gen_seq_BA, gen_img_BA.unsqueeze(1)], dim=1)"
   ],
   "metadata": {
    "collapsed": false
   }
  },
  {
   "cell_type": "code",
   "execution_count": 9,
   "outputs": [],
   "source": [
    "real_seq_A = (real_seq_A + 1.0)/2.0\n",
    "real_seq_B = (real_seq_B + 1.0)/2.0\n",
    "gen_seq_AB = (gen_seq_AB + 1.0)/2.0\n",
    "gen_seq_BA = (gen_seq_BA + 1.0)/2.0"
   ],
   "metadata": {
    "collapsed": false
   }
  },
  {
   "cell_type": "code",
   "execution_count": 11,
   "outputs": [],
   "source": [
    "os.makedirs(root + 'videos/', exist_ok=True)\n",
    "write_video(root + 'videos/seq_A.mp4', video_array=255*real_seq_A.squeeze(0).permute(0, 2, 3, 1), fps=5)\n",
    "write_video(root + 'videos/seq_B.mp4', video_array=255*real_seq_B.squeeze(0).permute(0, 2, 3, 1), fps=5)\n",
    "write_video(root + 'videos/seq_A2B.mp4', video_array=255*gen_seq_AB.squeeze(0).permute(0, 2, 3, 1), fps=5)\n",
    "write_video(root + 'videos/seq_B2A.mp4', video_array=255*gen_seq_BA.squeeze(0).permute(0, 2, 3, 1), fps=5)"
   ],
   "metadata": {
    "collapsed": false
   }
  },
  {
   "cell_type": "code",
   "execution_count": null,
   "outputs": [],
   "source": [],
   "metadata": {
    "collapsed": false
   }
  }
 ],
 "metadata": {
  "kernelspec": {
   "display_name": "Python 3",
   "language": "python",
   "name": "python3"
  },
  "language_info": {
   "codemirror_mode": {
    "name": "ipython",
    "version": 2
   },
   "file_extension": ".py",
   "mimetype": "text/x-python",
   "name": "python",
   "nbconvert_exporter": "python",
   "pygments_lexer": "ipython2",
   "version": "2.7.6"
  }
 },
 "nbformat": 4,
 "nbformat_minor": 0
}
